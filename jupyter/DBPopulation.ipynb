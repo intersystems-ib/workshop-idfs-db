{
 "cells": [
  {
   "cell_type": "code",
   "execution_count": 1,
   "id": "9f7b5878-d158-4423-97d3-9baf3b4cfe1a",
   "metadata": {},
   "outputs": [],
   "source": [
    "import iris\n",
    "import names\n",
    "import numpy as np\n",
    "from datetime import datetime, timedelta\n",
    "import mysql.connector\n",
    "import oracledb\n",
    "import random"
   ]
  },
  {
   "cell_type": "code",
   "execution_count": 2,
   "id": "915cd2cb-059f-40b1-86b3-7ead09269b50",
   "metadata": {},
   "outputs": [
    {
     "name": "stdout",
     "output_type": "stream",
     "text": [
      "Connected\n"
     ]
    }
   ],
   "source": [
    "connection_string = \"iris:1972/TEST\"\n",
    "username = \"superuser\"\n",
    "password = \"SYS\"\n",
    "\n",
    "connectionIRIS = iris.connect(connection_string, username, password)\n",
    "cursorIRIS = connectionIRIS.cursor()\n",
    "print(\"Connected\")"
   ]
  },
  {
   "cell_type": "code",
   "execution_count": 3,
   "id": "5d3a44d4-75c9-4611-a2ab-3a7ca30d9d6d",
   "metadata": {},
   "outputs": [
    {
     "name": "stdout",
     "output_type": "stream",
     "text": [
      "Connected\n"
     ]
    }
   ],
   "source": [
    "connectionMySQL = mysql.connector.connect(\n",
    "  host=\"mysql\",\n",
    "  user=\"testuser\",\n",
    "  password=\"testpassword\"\n",
    ")\n",
    "cursorMySQL = connectionMySQL.cursor()\n",
    "print(\"Connected\")"
   ]
  },
  {
   "cell_type": "code",
   "execution_count": 4,
   "id": "04a2eaa8-960c-4b9e-83a5-96b3b54a265c",
   "metadata": {},
   "outputs": [
    {
     "name": "stdout",
     "output_type": "stream",
     "text": [
      "Connected\n"
     ]
    }
   ],
   "source": [
    "connectionOracle = oracledb.connect(\n",
    "    user=\"testuser\",\n",
    "    password=\"testpassword\",\n",
    "    dsn=\"oracle/testPDB\")\n",
    "\n",
    "cursorOracle = connectionOracle.cursor()\n",
    "print(\"Connected\")"
   ]
  },
  {
   "cell_type": "code",
   "execution_count": 5,
   "id": "dcb2b13f-07f5-4dc1-9f27-612e41fad0ec",
   "metadata": {},
   "outputs": [],
   "source": [
    "nombres = ['Juan', 'María', 'Luis', 'Ana', 'Pedro', 'Lucía', 'Carlos', 'Elena']\n",
    "apellidos = ['Pérez', 'García', 'López', 'Martínez', 'Gómez', 'Fernández', 'Rodríguez', 'Sánchez']\n",
    "localidades = ['Madrid', 'Toledo', 'Ciudad Real', 'Albacete', 'Cuenca']\n",
    "provincias = ['Madrid', 'Toledo', 'Ciudad Real', 'Albacete', 'Cuenca']\n",
    "modelos_vehiculos = ['Ford Fiesta', 'Toyota Corolla', 'Seat Ibiza', 'Renault Clio', 'Volkswagen Golf']"
   ]
  },
  {
   "cell_type": "code",
   "execution_count": 6,
   "id": "18f58761-fe27-4eec-b89a-07ec36f4e841",
   "metadata": {},
   "outputs": [],
   "source": [
    "parameters = []\n",
    "dni_personas = []\n",
    "cif_aseguradoras = []\n",
    "\n",
    "for i in range(1, 101):\n",
    "    dni = f\"{random.randint(1000000, 99999999)}{random.choice('ABCDEFGHIJKLMNOPQRSTUVWXYZ')}\"\n",
    "    dni_personas.append(dni)\n",
    "    parameter = []\n",
    "    parameter.append(dni)\n",
    "    parameter.append(random.choice(nombres))\n",
    "    parameter.append(f\"{random.choice(apellidos)} {random.choice(apellidos)}\")\n",
    "    parameter.append(random.choice(['M', 'F']))\n",
    "    parameter.append((datetime.now() - timedelta(days=random.randint(18*365, 70*365))).strftime('%Y-%m-%d'))\n",
    "    parameter.append(f\"Calle {random.randint(1, 100)}, {random.choice(localidades)}\")\n",
    "    parameter.append(random.choice(localidades))\n",
    "    parameter.append(random.choice(provincias))\n",
    "    parameters.append(parameter)"
   ]
  },
  {
   "cell_type": "code",
   "execution_count": 7,
   "id": "875e9352-7997-445b-8a73-79b1db99642e",
   "metadata": {},
   "outputs": [],
   "source": [
    "date_before = datetime.now()\n",
    "    \n",
    "cursorOracle.executemany(\"INSERT INTO PERSONA (DNI, NOMBRE, APELLIDOS, SEXO, FECHA_NACIMIENTO, DIRECCION, LOCALIDAD, PROVINCIA) VALUES (:1,:2,:3,:4,TO_DATE(:5,'YYYY-MM-DD'),:6,:7,:8)\", parameters)\n",
    "connectionOracle.commit()"
   ]
  },
  {
   "cell_type": "code",
   "execution_count": 8,
   "id": "024658da-6266-4c7e-8a6a-b3558b4c282d",
   "metadata": {},
   "outputs": [
    {
     "name": "stdout",
     "output_type": "stream",
     "text": [
      "0.048754\n"
     ]
    }
   ],
   "source": [
    "date_before = datetime.now()\n",
    "\n",
    "cursorIRIS.executemany(\"INSERT INTO Test.Patient (Name, Lastname, Photo, Phone, Address) VALUES (?, ?, ?, ?, ?)\", parameters)\n",
    "connectionIRIS.commit()\n",
    "difference = datetime.now() - date_before\n",
    "print(difference.total_seconds())\n",
    "resultsIRIS.append(difference.total_seconds())"
   ]
  },
  {
   "cell_type": "code",
   "execution_count": 10,
   "id": "bff1a322-b36a-4a1a-8743-37f470e25d95",
   "metadata": {},
   "outputs": [
    {
     "name": "stdout",
     "output_type": "stream",
     "text": [
      "0.040205\n"
     ]
    }
   ],
   "source": [
    "date_before = datetime.now()\n",
    "    \n",
    "cursorMySQL.executemany(\"INSERT INTO test.patient (name, lastname, photo, phone, address) VALUES (%s,%s,%s,%s,%s)\", parameters)\n",
    "connectionMySQL.commit()\n",
    "difference = datetime.now() - date_before\n",
    "print(difference.total_seconds())\n",
    "resultsMySQL.append(difference.total_seconds())"
   ]
  },
  {
   "cell_type": "code",
   "execution_count": 26,
   "id": "dae9ebab-79d7-41f4-af08-090f0ac22d61",
   "metadata": {},
   "outputs": [],
   "source": [
    "connectionIRIS.close()\n",
    "connectionMySQL.close()\n",
    "connectionOracle.close()"
   ]
  }
 ],
 "metadata": {
  "kernelspec": {
   "display_name": "Python 3 (ipykernel)",
   "language": "python",
   "name": "python3"
  },
  "language_info": {
   "codemirror_mode": {
    "name": "ipython",
    "version": 3
   },
   "file_extension": ".py",
   "mimetype": "text/x-python",
   "name": "python",
   "nbconvert_exporter": "python",
   "pygments_lexer": "ipython3",
   "version": "3.11.6"
  }
 },
 "nbformat": 4,
 "nbformat_minor": 5
}
