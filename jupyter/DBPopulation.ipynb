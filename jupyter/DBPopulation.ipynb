{
 "cells": [
  {
   "cell_type": "code",
   "execution_count": 1,
   "id": "9f7b5878-d158-4423-97d3-9baf3b4cfe1a",
   "metadata": {},
   "outputs": [],
   "source": [
    "import iris\n",
    "import names\n",
    "import numpy as np\n",
    "from datetime import datetime, timedelta\n",
    "import mysql.connector\n",
    "import oracledb\n",
    "import random"
   ]
  },
  {
   "cell_type": "code",
   "execution_count": 2,
   "id": "915cd2cb-059f-40b1-86b3-7ead09269b50",
   "metadata": {},
   "outputs": [
    {
     "name": "stdout",
     "output_type": "stream",
     "text": [
      "Connected\n"
     ]
    }
   ],
   "source": [
    "connection_string = \"13.40.154.132:51774/TEST\"\n",
    "username = \"superuser\"\n",
    "password = \"SYS\"\n",
    "\n",
    "connectionIRIS = iris.connect(connection_string, username, password)\n",
    "cursorIRIS = connectionIRIS.cursor()\n",
    "print(\"Connected\")"
   ]
  },
  {
   "cell_type": "code",
   "execution_count": 15,
   "id": "5d3a44d4-75c9-4611-a2ab-3a7ca30d9d6d",
   "metadata": {},
   "outputs": [
    {
     "name": "stdout",
     "output_type": "stream",
     "text": [
      "Connected\n"
     ]
    }
   ],
   "source": [
    "connectionMySQL = mysql.connector.connect(\n",
    "  host=\"13.40.154.132\",\n",
    "  user=\"testuser\",\n",
    "  password=\"testpassword\"\n",
    ")\n",
    "cursorMySQL = connectionMySQL.cursor()\n",
    "print(\"Connected\")"
   ]
  },
  {
   "cell_type": "code",
   "execution_count": 4,
   "id": "04a2eaa8-960c-4b9e-83a5-96b3b54a265c",
   "metadata": {},
   "outputs": [
    {
     "name": "stdout",
     "output_type": "stream",
     "text": [
      "Connected\n"
     ]
    }
   ],
   "source": [
    "connectionOracle = oracledb.connect(\n",
    "    user=\"testuser\",\n",
    "    password=\"testpassword\",\n",
    "    dsn=\"13.40.154.132/testPDB\")\n",
    "\n",
    "cursorOracle = connectionOracle.cursor()\n",
    "print(\"Connected\")"
   ]
  },
  {
   "cell_type": "code",
   "execution_count": 21,
   "id": "dcb2b13f-07f5-4dc1-9f27-612e41fad0ec",
   "metadata": {},
   "outputs": [],
   "source": [
    "nombres = ['Juan', 'María', 'Luis', 'Ana', 'Pedro', 'Lucía', 'Carlos', 'Elena']\n",
    "apellidos = ['Pérez', 'García', 'López', 'Martínez', 'Gómez', 'Fernández', 'Rodríguez', 'Sánchez']\n",
    "localidades = ['Madrid', 'Toledo', 'Ciudad Real', 'Albacete', 'Cuenca']\n",
    "provincias = ['Madrid', 'Toledo', 'Ciudad Real', 'Albacete', 'Cuenca']\n",
    "modelos_vehiculos = ['Ford Fiesta', 'Toyota Corolla', 'Seat Ibiza', 'Renault Clio', 'Volkswagen Golf']"
   ]
  },
  {
   "cell_type": "code",
   "execution_count": 16,
   "id": "18f58761-fe27-4eec-b89a-07ec36f4e841",
   "metadata": {},
   "outputs": [],
   "source": [
    "parameters = []\n",
    "dni_personas = []\n",
    "cif_aseguradoras = []\n",
    "\n",
    "for i in range(1, 101):\n",
    "    dni = f\"{random.randint(1000000, 99999999)}{random.choice('ABCDEFGHIJKLMNOPQRSTUVWXYZ')}\"\n",
    "    dni_personas.append(dni)\n",
    "    parameter = []\n",
    "    parameter.append(dni)\n",
    "    parameter.append(random.choice(nombres))\n",
    "    parameter.append(f\"{random.choice(apellidos)} {random.choice(apellidos)}\")\n",
    "    parameter.append(random.choice(['M', 'F']))\n",
    "    parameter.append((datetime.now() - timedelta(days=random.randint(18*365, 70*365))).strftime('%Y-%m-%d'))\n",
    "    parameter.append(f\"Calle {random.randint(1, 100)}, {random.choice(localidades)}\")\n",
    "    parameter.append(random.choice(localidades))\n",
    "    parameter.append(random.choice(provincias))\n",
    "    parameters.append(parameter)"
   ]
  },
  {
   "cell_type": "code",
   "execution_count": 7,
   "id": "875e9352-7997-445b-8a73-79b1db99642e",
   "metadata": {},
   "outputs": [],
   "source": [
    "date_before = datetime.now()\n",
    "    \n",
    "cursorOracle.executemany(\"INSERT INTO PERSONA (DNI, NOMBRE, APELLIDOS, SEXO, FECHA_NACIMIENTO, DIRECCION, LOCALIDAD, PROVINCIA) VALUES (:1,:2,:3,:4,TO_DATE(:5,'YYYY-MM-DD'),:6,:7,:8)\", parameters)\n",
    "connectionOracle.commit()"
   ]
  },
  {
   "cell_type": "code",
   "execution_count": 19,
   "id": "024658da-6266-4c7e-8a6a-b3558b4c282d",
   "metadata": {},
   "outputs": [
    {
     "name": "stdout",
     "output_type": "stream",
     "text": [
      "0.045822\n"
     ]
    }
   ],
   "source": [
    "date_before = datetime.now()\n",
    "\n",
    "cursorIRIS.executemany(\"INSERT INTO Test.PERSONA (DNI, NOMBRE, APELLIDOS, SEXO, FECHA_NACIMIENTO, DIRECCION, LOCALIDAD, PROVINCIA) VALUES (?,?,?,?,TO_DATE(?,'YYYY-MM-DD'),?,?,?)\", parameters)\n",
    "connectionIRIS.commit()\n",
    "difference = datetime.now() - date_before\n",
    "print(difference.total_seconds())"
   ]
  },
  {
   "cell_type": "code",
   "execution_count": 17,
   "id": "bff1a322-b36a-4a1a-8743-37f470e25d95",
   "metadata": {},
   "outputs": [
    {
     "name": "stdout",
     "output_type": "stream",
     "text": [
      "0.049981\n"
     ]
    },
    {
     "ename": "NameError",
     "evalue": "name 'resultsMySQL' is not defined",
     "output_type": "error",
     "traceback": [
      "\u001b[0;31m---------------------------------------------------------------------------\u001b[0m",
      "\u001b[0;31mNameError\u001b[0m                                 Traceback (most recent call last)",
      "Cell \u001b[0;32mIn[17], line 7\u001b[0m\n\u001b[1;32m      5\u001b[0m difference \u001b[38;5;241m=\u001b[39m datetime\u001b[38;5;241m.\u001b[39mnow() \u001b[38;5;241m-\u001b[39m date_before\n\u001b[1;32m      6\u001b[0m \u001b[38;5;28mprint\u001b[39m(difference\u001b[38;5;241m.\u001b[39mtotal_seconds())\n\u001b[0;32m----> 7\u001b[0m \u001b[43mresultsMySQL\u001b[49m\u001b[38;5;241m.\u001b[39mappend(difference\u001b[38;5;241m.\u001b[39mtotal_seconds())\n",
      "\u001b[0;31mNameError\u001b[0m: name 'resultsMySQL' is not defined"
     ]
    }
   ],
   "source": [
    "date_before = datetime.now()\n",
    "    \n",
    "cursorMySQL.executemany(\"INSERT INTO test.PERSONA (DNI, NOMBRE, APELLIDOS, SEXO, FECHA_NACIMIENTO, DIRECCION, LOCALIDAD, PROVINCIA) VALUES (%s,%s,%s,%s,%s,%s,%s,%s)\", parameters)\n",
    "connectionMySQL.commit()\n",
    "difference = datetime.now() - date_before\n",
    "print(difference.total_seconds())"
   ]
  },
  {
   "cell_type": "code",
   "execution_count": 25,
   "id": "a7ede828-75d6-47f5-82fe-6c6c19dc6007",
   "metadata": {},
   "outputs": [],
   "source": [
    "parameters = []\n",
    "for i in range(1, 6):\n",
    "    parameter = []\n",
    "    cif = f\"A{random.randint(10000000, 99999999)}\"\n",
    "    cif_aseguradoras.append(cif)\n",
    "    parameter.append(cif)\n",
    "    parameter.append(f\"Aseguradora {i}\")\n",
    "    parameter.append(f\"Avenida Central, {random.randint(1, 100)}\")\n",
    "    parameter.append(random.choice(localidades))\n",
    "    parameter.append(random.choice(provincias))\n",
    "    parameters.append(parameter)     "
   ]
  },
  {
   "cell_type": "code",
   "execution_count": 26,
   "id": "f1e4ed88-d9ba-403c-a74c-b0ce9609c1b3",
   "metadata": {},
   "outputs": [],
   "source": [
    "date_before = datetime.now()\n",
    "    \n",
    "cursorOracle.executemany(\"INSERT INTO ASEGURADORA (CIF, NOMBRE, DIRECCION_SEDE, LOCALIDAD, PROVINCIA) VALUES (:1,:2,:3,:4,:5)\", parameters)\n",
    "connectionOracle.commit()"
   ]
  },
  {
   "cell_type": "code",
   "execution_count": 27,
   "id": "8d5687c1-06cb-47ef-b01c-f5276e8f6e62",
   "metadata": {},
   "outputs": [],
   "source": [
    "date_before = datetime.now()\n",
    "    \n",
    "cursorIRIS.executemany(\"INSERT INTO Test.ASEGURADORA (CIF, NOMBRE, DIRECCION_SEDE, LOCALIDAD, PROVINCIA) VALUES (?,?,?,?,?)\", parameters)\n",
    "connectionOracle.commit()"
   ]
  },
  {
   "cell_type": "code",
   "execution_count": 28,
   "id": "a2473f99-556a-4b60-a7a6-80a4dcbcbece",
   "metadata": {},
   "outputs": [],
   "source": [
    "date_before = datetime.now()\n",
    "    \n",
    "cursorMySQL.executemany(\"INSERT INTO test.ASEGURADORA (CIF, NOMBRE, DIRECCION_SEDE, LOCALIDAD, PROVINCIA) VALUES (%s,%s,%s,%s,%s)\", parameters)\n",
    "connectionOracle.commit()"
   ]
  },
  {
   "cell_type": "code",
   "execution_count": 34,
   "id": "48aac14b-8bbf-4b76-8562-f971bc4c5ddc",
   "metadata": {
    "jupyter": {
     "source_hidden": true
    }
   },
   "outputs": [],
   "source": [
    "parameters = []\n",
    "for i in range(1, 101):\n",
    "    parameter = []\n",
    "    parameter.append(f\"VH{random.randint(100000000000000, 999999999999999)}\")\n",
    "    parameter.append(random.choice(dni_personas))\n",
    "    parameter.append(round(random.uniform(1000, 2000), 2))\n",
    "    parameter.append(random.choice(['S', 'N']))\n",
    "    parameter.append(random.choice(modelos_vehiculos))\n",
    "    parameter.append(f\"{random.randint(1000, 9999)}{random.choice('ABCDEFGHIJKLMNOPQRSTUVWXYZ')}{random.choice('ABCDEFGHIJKLMNOPQRSTUVWXYZ')}{random.choice('ABCDEFGHIJKLMNOPQRSTUVWXYZ')}\")\n",
    "    parameter.append(random.choice(['S', 'N']))\n",
    "    parameter.append(random.choice(cif_aseguradoras))\n",
    "    parameters.append(parameter)\n"
   ]
  },
  {
   "cell_type": "code",
   "execution_count": 35,
   "id": "0ceb94ea-b6e7-4f60-82df-b42c72f4f7a8",
   "metadata": {},
   "outputs": [
    {
     "ename": "IntegrityError",
     "evalue": "ORA-02291: integrity constraint (TESTUSER.SYS_C008230) violated - parent key not found\nHelp: https://docs.oracle.com/error-help/db/ora-02291/",
     "output_type": "error",
     "traceback": [
      "\u001b[0;31m---------------------------------------------------------------------------\u001b[0m",
      "\u001b[0;31mIntegrityError\u001b[0m                            Traceback (most recent call last)",
      "Cell \u001b[0;32mIn[35], line 3\u001b[0m\n\u001b[1;32m      1\u001b[0m date_before \u001b[38;5;241m=\u001b[39m datetime\u001b[38;5;241m.\u001b[39mnow()\n\u001b[0;32m----> 3\u001b[0m \u001b[43mcursorOracle\u001b[49m\u001b[38;5;241;43m.\u001b[39;49m\u001b[43mexecutemany\u001b[49m\u001b[43m(\u001b[49m\u001b[38;5;124;43m\"\u001b[39;49m\u001b[38;5;124;43mINSERT INTO VEHICULO (NUMERO_BASTIDOR, DNI_PROPIETARIO, PESO, ITV_EN_VIGOR, MODELO, MATRICULA, SEGURO_EN_VIGOR, CIF_ASEGURADORA) VALUES (:1,:2,:3,:4,:5,:6,:7,:8)\u001b[39;49m\u001b[38;5;124;43m\"\u001b[39;49m\u001b[43m,\u001b[49m\u001b[43m \u001b[49m\u001b[43mparameters\u001b[49m\u001b[43m)\u001b[49m\n\u001b[1;32m      4\u001b[0m connectionOracle\u001b[38;5;241m.\u001b[39mcommit()\n",
      "File \u001b[0;32m/opt/conda/lib/python3.11/site-packages/oracledb/cursor.py:758\u001b[0m, in \u001b[0;36mCursor.executemany\u001b[0;34m(self, statement, parameters, batcherrors, arraydmlrowcounts)\u001b[0m\n\u001b[1;32m    754\u001b[0m \u001b[38;5;28mself\u001b[39m\u001b[38;5;241m.\u001b[39m_verify_open()\n\u001b[1;32m    755\u001b[0m num_execs \u001b[38;5;241m=\u001b[39m \u001b[38;5;28mself\u001b[39m\u001b[38;5;241m.\u001b[39m_impl\u001b[38;5;241m.\u001b[39m_prepare_for_executemany(\n\u001b[1;32m    756\u001b[0m     \u001b[38;5;28mself\u001b[39m, statement, parameters\n\u001b[1;32m    757\u001b[0m )\n\u001b[0;32m--> 758\u001b[0m \u001b[38;5;28;43mself\u001b[39;49m\u001b[38;5;241;43m.\u001b[39;49m\u001b[43m_impl\u001b[49m\u001b[38;5;241;43m.\u001b[39;49m\u001b[43mexecutemany\u001b[49m\u001b[43m(\u001b[49m\n\u001b[1;32m    759\u001b[0m \u001b[43m    \u001b[49m\u001b[38;5;28;43mself\u001b[39;49m\u001b[43m,\u001b[49m\u001b[43m \u001b[49m\u001b[43mnum_execs\u001b[49m\u001b[43m,\u001b[49m\u001b[43m \u001b[49m\u001b[38;5;28;43mbool\u001b[39;49m\u001b[43m(\u001b[49m\u001b[43mbatcherrors\u001b[49m\u001b[43m)\u001b[49m\u001b[43m,\u001b[49m\u001b[43m \u001b[49m\u001b[38;5;28;43mbool\u001b[39;49m\u001b[43m(\u001b[49m\u001b[43marraydmlrowcounts\u001b[49m\u001b[43m)\u001b[49m\n\u001b[1;32m    760\u001b[0m \u001b[43m\u001b[49m\u001b[43m)\u001b[49m\n",
      "File \u001b[0;32msrc/oracledb/impl/thin/cursor.pyx:317\u001b[0m, in \u001b[0;36moracledb.thin_impl.ThinCursorImpl.executemany\u001b[0;34m()\u001b[0m\n",
      "File \u001b[0;32msrc/oracledb/impl/thin/protocol.pyx:450\u001b[0m, in \u001b[0;36moracledb.thin_impl.Protocol._process_single_message\u001b[0;34m()\u001b[0m\n",
      "File \u001b[0;32msrc/oracledb/impl/thin/protocol.pyx:451\u001b[0m, in \u001b[0;36moracledb.thin_impl.Protocol._process_single_message\u001b[0;34m()\u001b[0m\n",
      "File \u001b[0;32msrc/oracledb/impl/thin/protocol.pyx:443\u001b[0m, in \u001b[0;36moracledb.thin_impl.Protocol._process_message\u001b[0;34m()\u001b[0m\n",
      "File \u001b[0;32msrc/oracledb/impl/thin/messages/base.pyx:76\u001b[0m, in \u001b[0;36moracledb.thin_impl.Message._check_and_raise_exception\u001b[0;34m()\u001b[0m\n",
      "\u001b[0;31mIntegrityError\u001b[0m: ORA-02291: integrity constraint (TESTUSER.SYS_C008230) violated - parent key not found\nHelp: https://docs.oracle.com/error-help/db/ora-02291/"
     ]
    }
   ],
   "source": [
    "date_before = datetime.now()\n",
    "    \n",
    "cursorOracle.executemany(\"INSERT INTO VEHICULO (NUMERO_BASTIDOR, DNI_PROPIETARIO, PESO, ITV_EN_VIGOR, MODELO, MATRICULA, SEGURO_EN_VIGOR, CIF_ASEGURADORA) VALUES (:1,:2,:3,:4,:5,:6,:7,:8)\", parameters)\n",
    "connectionOracle.commit()"
   ]
  },
  {
   "cell_type": "code",
   "execution_count": 27,
   "id": "5f05057d-2830-453b-9205-08f089f4cf5f",
   "metadata": {},
   "outputs": [],
   "source": [
    "date_before = datetime.now()\n",
    "    \n",
    "cursorIRIS.executemany(\"INSERT INTO Test.VEHICULO (NUMERO_BASTIDOR, DNI_PROPIETARIO, PESO, ITV_EN_VIGOR, MODELO, MATRICULA, SEGURO_EN_VIGOR, CIF_ASEGURADORA) VALUES (?,?,?,?,?,?,?,?)\", parameters)\n",
    "connectionIRIS.commit()"
   ]
  },
  {
   "cell_type": "code",
   "execution_count": 28,
   "id": "c0693462-c90b-4905-a8ce-2df87e33e360",
   "metadata": {},
   "outputs": [],
   "source": [
    "date_before = datetime.now()\n",
    "    \n",
    "cursorMySQL.executemany(\"INSERT INTO test.VEHICULO (NUMERO_BASTIDOR, DNI_PROPIETARIO, PESO, ITV_EN_VIGOR, MODELO, MATRICULA, SEGURO_EN_VIGOR, CIF_ASEGURADORA) VALUES (%s,%s,%s,%s,%s,%s,%s,%s)\", parameters)\n",
    "connectionMySQL.commit()"
   ]
  },
  {
   "cell_type": "code",
   "execution_count": 36,
   "id": "49c01e55-a1e8-4867-9f69-5eaac697e1f6",
   "metadata": {},
   "outputs": [],
   "source": [
    "cursorIRIS.execute(\"TRUNCATE TABLE Test.VEHICULO\")\n",
    "cursorIRIS.execute(\"TRUNCATE TABLE Test.ASEGURADORA\")\n",
    "cursorIRIS.execute(\"TRUNCATE TABLE Test.PERSONA\")\n",
    "connectionIRIS.commit()"
   ]
  },
  {
   "cell_type": "code",
   "execution_count": 38,
   "id": "57c1a943-76e0-4b51-b411-1423175b3c4b",
   "metadata": {},
   "outputs": [],
   "source": [
    "cursorOracle.execute(\"TRUNCATE TABLE VEHICULO\")\n",
    "cursorOracle.execute(\"TRUNCATE TABLE ASEGURADORA\")\n",
    "cursorOracle.execute(\"TRUNCATE TABLE PERSONA\")\n",
    "connectionOracle.commit()"
   ]
  },
  {
   "cell_type": "code",
   "execution_count": 41,
   "id": "4fc97b2f-fd5a-4d22-9853-ac1478eaaf0f",
   "metadata": {},
   "outputs": [],
   "source": [
    "cursorMySQL.execute(\"TRUNCATE TABLE test.VEHICULO\")\n",
    "cursorMySQL.execute(\"DELETE FROM test.ASEGURADORA\")\n",
    "cursorMySQL.execute(\"DELETE FROM test.PERSONA\")\n",
    "connectionMySQL.commit()"
   ]
  },
  {
   "cell_type": "code",
   "execution_count": 26,
   "id": "dae9ebab-79d7-41f4-af08-090f0ac22d61",
   "metadata": {},
   "outputs": [],
   "source": [
    "connectionIRIS.close()\n",
    "connectionMySQL.close()\n",
    "connectionOracle.close()"
   ]
  }
 ],
 "metadata": {
  "kernelspec": {
   "display_name": "Python 3 (ipykernel)",
   "language": "python",
   "name": "python3"
  },
  "language_info": {
   "codemirror_mode": {
    "name": "ipython",
    "version": 3
   },
   "file_extension": ".py",
   "mimetype": "text/x-python",
   "name": "python",
   "nbconvert_exporter": "python",
   "pygments_lexer": "ipython3",
   "version": "3.11.6"
  }
 },
 "nbformat": 4,
 "nbformat_minor": 5
}
